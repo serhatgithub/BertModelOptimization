{
 "cells": [
  {
   "cell_type": "code",
   "execution_count": 3,
   "id": "5110ccb2-7a1a-4b96-ad63-dd7eaf2186f1",
   "metadata": {
    "scrolled": true
   },
   "outputs": [
    {
     "name": "stdout",
     "output_type": "stream",
     "text": [
      "Looking in indexes: https://download.pytorch.org/whl/cu118\n",
      "Collecting torch\n",
      "  Downloading https://download.pytorch.org/whl/cu118/torch-2.6.0%2Bcu118-cp312-cp312-win_amd64.whl.metadata (28 kB)\n",
      "Collecting torchvision\n",
      "  Downloading https://download.pytorch.org/whl/cu118/torchvision-0.21.0%2Bcu118-cp312-cp312-win_amd64.whl.metadata (6.3 kB)\n",
      "Collecting torchaudio\n",
      "  Downloading https://download.pytorch.org/whl/cu118/torchaudio-2.6.0%2Bcu118-cp312-cp312-win_amd64.whl.metadata (6.8 kB)\n",
      "Requirement already satisfied: filelock in c:\\users\\serhat\\anaconda3\\lib\\site-packages (from torch) (3.13.1)\n",
      "Requirement already satisfied: typing-extensions>=4.10.0 in c:\\users\\serhat\\anaconda3\\lib\\site-packages (from torch) (4.11.0)\n",
      "Requirement already satisfied: networkx in c:\\users\\serhat\\anaconda3\\lib\\site-packages (from torch) (3.3)\n",
      "Requirement already satisfied: jinja2 in c:\\users\\serhat\\anaconda3\\lib\\site-packages (from torch) (3.1.4)\n",
      "Requirement already satisfied: fsspec in c:\\users\\serhat\\anaconda3\\lib\\site-packages (from torch) (2024.6.1)\n",
      "Requirement already satisfied: setuptools in c:\\users\\serhat\\anaconda3\\lib\\site-packages (from torch) (75.1.0)\n",
      "Collecting sympy==1.13.1 (from torch)\n",
      "  Downloading https://download.pytorch.org/whl/sympy-1.13.1-py3-none-any.whl (6.2 MB)\n",
      "     ---------------------------------------- 0.0/6.2 MB ? eta -:--:--\n",
      "     - -------------------------------------- 0.3/6.2 MB ? eta -:--:--\n",
      "     ----- ---------------------------------- 0.8/6.2 MB 2.1 MB/s eta 0:00:03\n",
      "     ----- ---------------------------------- 0.8/6.2 MB 2.1 MB/s eta 0:00:03\n",
      "     ------ --------------------------------- 1.0/6.2 MB 1.6 MB/s eta 0:00:04\n",
      "     ---------- ----------------------------- 1.6/6.2 MB 1.5 MB/s eta 0:00:04\n",
      "     ----------- ---------------------------- 1.8/6.2 MB 1.5 MB/s eta 0:00:03\n",
      "     ----------- ---------------------------- 1.8/6.2 MB 1.5 MB/s eta 0:00:03\n",
      "     ------------- -------------------------- 2.1/6.2 MB 1.4 MB/s eta 0:00:03\n",
      "     --------------- ------------------------ 2.4/6.2 MB 1.3 MB/s eta 0:00:03\n",
      "     ---------------- ----------------------- 2.6/6.2 MB 1.3 MB/s eta 0:00:03\n",
      "     -------------------- ------------------- 3.1/6.2 MB 1.4 MB/s eta 0:00:03\n",
      "     ---------------------- ----------------- 3.4/6.2 MB 1.4 MB/s eta 0:00:02\n",
      "     ----------------------- ---------------- 3.7/6.2 MB 1.3 MB/s eta 0:00:02\n",
      "     ----------------------- ---------------- 3.7/6.2 MB 1.3 MB/s eta 0:00:02\n",
      "     ------------------------- -------------- 3.9/6.2 MB 1.3 MB/s eta 0:00:02\n",
      "     --------------------------- ------------ 4.2/6.2 MB 1.3 MB/s eta 0:00:02\n",
      "     ---------------------------- ----------- 4.5/6.2 MB 1.3 MB/s eta 0:00:02\n",
      "     ------------------------------ --------- 4.7/6.2 MB 1.3 MB/s eta 0:00:02\n",
      "     -------------------------------- ------- 5.0/6.2 MB 1.3 MB/s eta 0:00:01\n",
      "     ----------------------------------- ---- 5.5/6.2 MB 1.3 MB/s eta 0:00:01\n",
      "     ------------------------------------- -- 5.8/6.2 MB 1.3 MB/s eta 0:00:01\n",
      "     ---------------------------------------- 6.2/6.2 MB 1.4 MB/s eta 0:00:00\n",
      "Requirement already satisfied: mpmath<1.4,>=1.1.0 in c:\\users\\serhat\\anaconda3\\lib\\site-packages (from sympy==1.13.1->torch) (1.3.0)\n",
      "Requirement already satisfied: numpy in c:\\users\\serhat\\anaconda3\\lib\\site-packages (from torchvision) (1.26.4)\n",
      "Requirement already satisfied: pillow!=8.3.*,>=5.3.0 in c:\\users\\serhat\\anaconda3\\lib\\site-packages (from torchvision) (10.4.0)\n",
      "Requirement already satisfied: MarkupSafe>=2.0 in c:\\users\\serhat\\anaconda3\\lib\\site-packages (from jinja2->torch) (2.1.3)\n",
      "Downloading https://download.pytorch.org/whl/cu118/torch-2.6.0%2Bcu118-cp312-cp312-win_amd64.whl (2728.9 MB)\n",
      "  0.1/2.7 GB 939.4 kB/s eta 0:46:52\n",
      "  .3/2.7 GB 830.5 kB/s eta 0:48:33\n",
      " 
      " 

    },
    {
     "name": "stderr",
     "output_type": "stream",
     "text": [
      "WARNING: Retrying (Retry(total=4, connect=None, read=None, redirect=None, status=None)) after connection broken by 'ReadTimeoutError(\"HTTPSConnectionPool(host='download.pytorch.org', port=443): Read timed out. (read timeout=15)\")': /whl/cu118/torch/\n",
      "ERROR: Exception:\n",
      "Traceback (most recent call last):\n",
      "  File \"C:\\Users\\Serhat\\anaconda3\\Lib\\site-packages\\pip\\_vendor\\urllib3\\response.py\", line 438, in _error_catcher\n",
      "    yield\n",
      "  File \"C:\\Users\\Serhat\\anaconda3\\Lib\\site-packages\\pip\\_vendor\\urllib3\\response.py\", line 561, in read\n",
      "    data = self._fp_read(amt) if not fp_closed else b\"\"\n",
      "           ^^^^^^^^^^^^^^^^^^\n",
      "  File \"C:\\Users\\Serhat\\anaconda3\\Lib\\site-packages\\pip\\_vendor\\urllib3\\response.py\", line 527, in _fp_read\n",
      "    return self._fp.read(amt) if amt is not None else self._fp.read()\n",
      "           ^^^^^^^^^^^^^^^^^^\n",
      "  File \"C:\\Users\\Serhat\\anaconda3\\Lib\\site-packages\\pip\\_vendor\\cachecontrol\\filewrapper.py\", line 98, in read\n",
      "    data: bytes = self.__fp.read(amt)\n",
      "                  ^^^^^^^^^^^^^^^^^^^\n",
      "  File \"C:\\Users\\Serhat\\anaconda3\\Lib\\http\\client.py\", line 479, in read\n",
      "    s = self.fp.read(amt)\n",
      "        ^^^^^^^^^^^^^^^^^\n",
      "  File \"C:\\Users\\Serhat\\anaconda3\\Lib\\socket.py\", line 720, in readinto\n",
      "    return self._sock.recv_into(b)\n",
      "           ^^^^^^^^^^^^^^^^^^^^^^^\n",
      "  File \"C:\\Users\\Serhat\\anaconda3\\Lib\\ssl.py\", line 1251, in recv_into\n",
      "    return self.read(nbytes, buffer)\n",
      "           ^^^^^^^^^^^^^^^^^^^^^^^^^\n",
      "  File \"C:\\Users\\Serhat\\anaconda3\\Lib\\ssl.py\", line 1103, in read\n",
      "    return self._sslobj.read(len, buffer)\n",
      "           ^^^^^^^^^^^^^^^^^^^^^^^^^^^^^^\n",
      "TimeoutError: The read operation timed out\n",
      "\n",
      "During handling of the above exception, another exception occurred:\n",
      "\n",
      "Traceback (most recent call last):\n",
      "  File \"C:\\Users\\Serhat\\anaconda3\\Lib\\site-packages\\pip\\_internal\\cli\\base_command.py\", line 105, in _run_wrapper\n",
      "    status = _inner_run()\n",
      "             ^^^^^^^^^^^^\n",
      "  File \"C:\\Users\\Serhat\\anaconda3\\Lib\\site-packages\\pip\\_internal\\cli\\base_command.py\", line 96, in _inner_run\n",
      "    return self.run(options, args)\n",
      "           ^^^^^^^^^^^^^^^^^^^^^^^\n",
      "  File \"C:\\Users\\Serhat\\anaconda3\\Lib\\site-packages\\pip\\_internal\\cli\\req_command.py\", line 67, in wrapper\n",
      "    return func(self, options, args)\n",
      "           ^^^^^^^^^^^^^^^^^^^^^^^^^\n",
      "  File \"C:\\Users\\Serhat\\anaconda3\\Lib\\site-packages\\pip\\_internal\\commands\\install.py\", line 379, in run\n",
      "    requirement_set = resolver.resolve(\n",
      "                      ^^^^^^^^^^^^^^^^^\n",
      "  File \"C:\\Users\\Serhat\\anaconda3\\Lib\\site-packages\\pip\\_internal\\resolution\\resolvelib\\resolver.py\", line 179, in resolve\n",
      "    self.factory.preparer.prepare_linked_requirements_more(reqs)\n",
      "  File \"C:\\Users\\Serhat\\anaconda3\\Lib\\site-packages\\pip\\_internal\\operations\\prepare.py\", line 554, in prepare_linked_requirements_more\n",
      "    self._complete_partial_requirements(\n",
      "  File \"C:\\Users\\Serhat\\anaconda3\\Lib\\site-packages\\pip\\_internal\\operations\\prepare.py\", line 469, in _complete_partial_requirements\n",
      "    for link, (filepath, _) in batch_download:\n",
      "  File \"C:\\Users\\Serhat\\anaconda3\\Lib\\site-packages\\pip\\_internal\\network\\download.py\", line 184, in __call__\n",
      "    for chunk in chunks:\n",
      "  File \"C:\\Users\\Serhat\\anaconda3\\Lib\\site-packages\\pip\\_internal\\cli\\progress_bars.py\", line 55, in _rich_progress_bar\n",
      "    for chunk in iterable:\n",
      "  File \"C:\\Users\\Serhat\\anaconda3\\Lib\\site-packages\\pip\\_internal\\network\\utils.py\", line 65, in response_chunks\n",
      "    for chunk in response.raw.stream(\n",
      "  File \"C:\\Users\\Serhat\\anaconda3\\Lib\\site-packages\\pip\\_vendor\\urllib3\\response.py\", line 622, in stream\n",
      "    data = self.read(amt=amt, decode_content=decode_content)\n",
      "           ^^^^^^^^^^^^^^^^^^^^^^^^^^^^^^^^^^^^^^^^^^^^^^^^^\n",
      "  File \"C:\\Users\\Serhat\\anaconda3\\Lib\\site-packages\\pip\\_vendor\\urllib3\\response.py\", line 560, in read\n",
      "    with self._error_catcher():\n",
      "  File \"C:\\Users\\Serhat\\anaconda3\\Lib\\contextlib.py\", line 158, in __exit__\n",
      "    self.gen.throw(value)\n",
      "  File \"C:\\Users\\Serhat\\anaconda3\\Lib\\site-packages\\pip\\_vendor\\urllib3\\response.py\", line 443, in _error_catcher\n",
      "    raise ReadTimeoutError(self._pool, None, \"Read timed out.\")\n",
      "pip._vendor.urllib3.exceptions.ReadTimeoutError: HTTPSConnectionPool(host='download.pytorch.org', port=443): Read timed out.\n"
     ]
    },
    {
     "name": "stdout",
     "output_type": "stream",
     "text": [
      "\n",
      "   ---------------------- ----------------- 1.5/2.7 GB 658.5 kB/s eta 0:30:02\n",
      "   ---------------------- ----------------- 1.5/2.7 GB 658.5 kB/s eta 0:30:02\n",
      "   ---------------------- ----------------- 1.5/2.7 GB 659.1 kB/s eta 0:30:00\n",
      "   ---------------------- ----------------- 1.5/2.7 GB 662.6 kB/s eta 0:29:50\n",
      "   ---------------------- ----------------- 1.5/2.7 GB 665.8 kB/s eta 0:29:41\n",
      "   ---------------------- ----------------- 1.5/2.7 GB 664.1 kB/s eta 0:29:45\n",
      "   ---------------------- ----------------- 1.5/2.7 GB 664.1 kB/s eta 0:29:45\n",
      "   ---------------------- ----------------- 1.5/2.7 GB 653.4 kB/s eta 0:30:14\n",
      "   ---------------------- ----------------- 1.5/2.7 GB 653.4 kB/s eta 0:30:14\n",
      "   ---------------------- ----------------- 1.5/2.7 GB 654.8 kB/s eta 0:30:10\n",
      "   ---------------------- ----------------- 1.5/2.7 GB 654.8 kB/s eta 0:30:10\n",
      "   ---------------------- ----------------- 1.5/2.7 GB 654.8 kB/s eta 0:30:10\n",
      "   ---------------------- ----------------- 1.5/2.7 GB 650.7 kB/s eta 0:30:21\n",
      "   ---------------------- ----------------- 1.5/2.7 GB 650.7 kB/s eta 0:30:21\n",
      "   ---------------------- ----------------- 1.5/2.7 GB 650.7 kB/s eta 0:30:21\n",
      "   ---------------------- ----------------- 1.5/2.7 GB 658.6 kB/s eta 0:29:58\n",
      "   ---------------------- ----------------- 1.5/2.7 GB 658.6 kB/s eta 0:29:58\n",
      "   ---------------------- ----------------- 1.5/2.7 GB 659.1 kB/s eta 0:29:56\n",
      "   ---------------------- ----------------- 1.5/2.7 GB 670.4 kB/s eta 0:29:26\n",
      "   ---------------------- ----------------- 1.5/2.7 GB 670.4 kB/s eta 0:29:26\n",
      "   ---------------------- ----------------- 1.5/2.7 GB 669.0 kB/s eta 0:29:29\n",
      "   ---------------------- ----------------- 1.5/2.7 GB 669.0 kB/s eta 0:29:29\n",
      "   ---------------------- ----------------- 1.5/2.7 GB 669.0 kB/s eta 0:29:29\n",
      "   ---------------------- ----------------- 1.5/2.7 GB 668.3 kB/s eta 0:29:31\n",
      "   ---------------------- ----------------- 1.5/2.7 GB 668.3 kB/s eta 0:29:31\n",
      "   ---------------------- ----------------- 1.5/2.7 GB 666.9 kB/s eta 0:29:34\n",
      "   ---------------------- ----------------- 1.5/2.7 GB 666.9 kB/s eta 0:29:34\n",
      "   ---------------------- ----------------- 1.5/2.7 GB 666.9 kB/s eta 0:29:34\n",
      "   ---------------------- ----------------- 1.5/2.7 GB 660.2 kB/s eta 0:29:52\n",
      "   ---------------------- ----------------- 1.5/2.7 GB 660.2 kB/s eta 0:29:52\n",
      "   ---------------------- ----------------- 1.5/2.7 GB 657.4 kB/s eta 0:29:59\n",
      "   ---------------------- ----------------- 1.5/2.7 GB 657.8 kB/s eta 0:29:57\n",
      "   ---------------------- ----------------- 1.5/2.7 GB 657.8 kB/s eta 0:29:57\n",
      "   ---------------------- ----------------- 1.5/2.7 GB 657.8 kB/s eta 0:29:57\n",
      "   ---------------------- ----------------- 1.5/2.7 GB 661.1 kB/s eta 0:29:48\n",
      "   ---------------------- ----------------- 1.5/2.7 GB 661.1 kB/s eta 0:29:48\n",
      "   ---------------------- ----------------- 1.5/2.7 GB 661.1 kB/s eta 0:29:48\n",
      "   ----------------
      "Requirement already satisfied: jupyterlab in c:\\users\\serhat\\anaconda3\\lib\\site-packages (4.2.5)\n",
      "Requirement already satisfied: pillow in c:\\users\\serhat\\anaconda3\\lib\\site-packages (10.4.0)\n",
      "Requirement already satisfied: requests in c:\\users\\serhat\\anaconda3\\lib\\site-packages (2.32.3)\n",
      "Requirement already satisfied: async-lru>=1.0.0 in c:\\users\\serhat\\anaconda3\\lib\\site-packages (from jupyterlab) (2.0.4)\n",
      "Requirement already satisfied: httpx>=0.25.0 in c:\\users\\serhat\\anaconda3\\lib\\site-packages (from jupyterlab) (0.27.0)\n",
      "Requirement already satisfied: ipykernel>=6.5.0 in c:\\users\\serhat\\anaconda3\\lib\\site-packages (from jupyterlab) (6.28.0)\n",
      "Requirement already satisfied: jinja2>=3.0.3 in c:\\users\\serhat\\anaconda3\\lib\\site-packages (from jupyterlab) (3.1.4)\n",
      "Requirement already satisfied: jupyter-core in c:\\users\\serhat\\anaconda3\\lib\\site-packages (from jupyterlab) (5.7.2)\n",
      "Requirement already satisfied: jupyter-lsp>=2.0.0 in c:\\users\\serhat\\anaconda3\\lib\\site-packages (from jupyterlab) (2.2.0)\n",
      "Requirement already satisfied: jupyter-server<3,>=2.4.0 in c:\\users\\serhat\\anaconda3\\lib\\site-packages (from jupyterlab) (2.14.1)\n",
      "Requirement already satisfied: jupyterlab-server<3,>=2.27.1 in c:\\users\\serhat\\anaconda3\\lib\\site-packages (from jupyterlab) (2.27.3)\n",
      "Requirement already satisfied: notebook-shim>=0.2 in c:\\users\\serhat\\anaconda3\\lib\\site-packages (from jupyterlab) (0.2.3)\n",
      "Requirement already satisfied: packaging in c:\\users\\serhat\\anaconda3\\lib\\site-packages (from jupyterlab) (24.1)\n",
      "Requirement already satisfied: setuptools>=40.1.0 in c:\\users\\serhat\\anaconda3\\lib\\site-packages (from jupyterlab) (75.1.0)\n",
      "Requirement already satisfied: tornado>=6.2.0 in c:\\users\\serhat\\anaconda3\\lib\\site-packages (from jupyterlab) (6.4.1)\n",
      "Requirement already satisfied: traitlets in c:\\users\\serhat\\anaconda3\\lib\\site-packages (from jupyterlab) (5.14.3)\n",
      "Requirement already satisfied: charset-normalizer<4,>=2 in c:\\users\\serhat\\anaconda3\\lib\\site-packages (from requests) (3.3.2)\n",
      "Requirement already satisfied: idna<4,>=2.5 in c:\\users\\serhat\\anaconda3\\lib\\site-packages (from requests) (3.7)\n",
      "Requirement already satisfied: urllib3<3,>=1.21.1 in c:\\users\\serhat\\anaconda3\\lib\\site-packages (from requests) (2.2.3)\n",
      "Requirement already satisfied: certifi>=2017.4.17 in c:\\users\\serhat\\anaconda3\\lib\\site-packages (from requests) (2025.1.31)\n",
      "Requirement already satisfied: anyio in c:\\users\\serhat\\anaconda3\\lib\\site-packages (from httpx>=0.25.0->jupyterlab) (4.2.0)\n",
      "Requirement already satisfied: httpcore==1.* in c:\\users\\serhat\\anaconda3\\lib\\site-packages (from httpx>=0.25.0->jupyterlab) (1.0.2)\n",
      "Requirement already satisfied: sniffio in c:\\users\\serhat\\anaconda3\\lib\\site-packages (from httpx>=0.25.0->jupyterlab) (1.3.0)\n",
      "Requirement already satisfied: h11<0.15,>=0.13 in c:\\users\\serhat\\anaconda3\\lib\\site-packages (from httpcore==1.*->httpx>=0.25.0->jupyterlab) (0.14.0)\n",
      "Requirement already satisfied: comm>=0.1.1 in c:\\users\\serhat\\anaconda3\\lib\\site-packages (from ipykernel>=6.5.0->jupyterlab) (0.2.1)\n",
      "Requirement already satisfied: debugpy>=1.6.5 in c:\\users\\serhat\\anaconda3\\lib\\site-packages (from ipykernel>=6.5.0->jupyterlab) (1.6.7)\n",
      "Requirement already satisfied: ipython>=7.23.1 in c:\\users\\serhat\\anaconda3\\lib\\site-packages (from ipykernel>=6.5.0->jupyterlab) (8.27.0)\n",
      "Requirement already satisfied: jupyter-client>=6.1.12 in c:\\users\\serhat\\anaconda3\\lib\\site-packages (from ipykernel>=6.5.0->jupyterlab) (8.6.0)\n",
      "Requirement already satisfied: matplotlib-inline>=0.1 in c:\\users\\serhat\\anaconda3\\lib\\site-packages (from ipykernel>=6.5.0->jupyterlab) (0.1.6)\n",
      "Requirement already satisfied: nest-asyncio in c:\\users\\serhat\\anaconda3\\lib\\site-packages (from ipykernel>=6.5.0->jupyterlab) (1.6.0)\n",
      "Requirement already satisfied: psutil in c:\\users\\serhat\\anaconda3\\lib\\site-packages (from ipykernel>=6.5.0->jupyterlab) (5.9.0)\n",
      "Requirement already satisfied: pyzmq>=24 in c:\\users\\serhat\\anaconda3\\lib\\site-packages (from ipykernel>=6.5.0->jupyterlab) (25.1.2)\n",
      "Requirement already satisfied: MarkupSafe>=2.0 in c:\\users\\serhat\\anaconda3\\lib\\site-packages (from jinja2>=3.0.3->jupyterlab) (2.1.3)\n",
      "Requirement already satisfied: platformdirs>=2.5 in c:\\users\\serhat\\anaconda3\\lib\\site-packages (from jupyter-core->jupyterlab) (3.10.0)\n",
      "Requirement already satisfied: pywin32>=300 in c:\\users\\serhat\\anaconda3\\lib\\site-packages (from jupyter-core->jupyterlab) (305.1)\n",
      "Requirement already satisfied: argon2-cffi>=21.1 in c:\\users\\serhat\\anaconda3\\lib\\site-packages (from jupyter-server<3,>=2.4.0->jupyterlab) (21.3.0)\n",
      "Requirement already satisfied: jupyter-events>=0.9.0 in c:\\users\\serhat\\anaconda3\\lib\\site-packages (from jupyter-server<3,>=2.4.0->jupyterlab) (0.10.0)\n",
      "Requirement already satisfied: jupyter-server-terminals>=0.4.4 in c:\\users\\serhat\\anaconda3\\lib\\site-packages (from jupyter-server<3,>=2.4.0->jupyterlab) (0.4.4)\n",
      "Requirement already satisfied: nbconvert>=6.4.4 in c:\\users\\serhat\\anaconda3\\lib\\site-packages (from jupyter-server<3,>=2.4.0->jupyterlab) (7.16.4)\n",
      "Requirement already satisfied: nbformat>=5.3.0 in c:\\users\\serhat\\anaconda3\\lib\\site-packages (from jupyter-server<3,>=2.4.0->jupyterlab) (5.10.4)\n",
      "Requirement already satisfied: overrides>=5.0 in c:\\users\\serhat\\anaconda3\\lib\\site-packages (from jupyter-server<3,>=2.4.0->jupyterlab) (7.4.0)\n",
      "Requirement already satisfied: prometheus-client>=0.9 in c:\\users\\serhat\\anaconda3\\lib\\site-packages (from jupyter-server<3,>=2.4.0->jupyterlab) (0.14.1)\n",
      "Requirement already satisfied: pywinpty>=2.0.1 in c:\\users\\serhat\\anaconda3\\lib\\site-packages (from jupyter-server<3,>=2.4.0->jupyterlab) (2.0.10)\n",
      "Requirement already satisfied: send2trash>=1.8.2 in c:\\users\\serhat\\anaconda3\\lib\\site-packages (from jupyter-server<3,>=2.4.0->jupyterlab) (1.8.2)\n",
      "Requirement already satisfied: terminado>=0.8.3 in c:\\users\\serhat\\anaconda3\\lib\\site-packages (from jupyter-server<3,>=2.4.0->jupyterlab) (0.17.1)\n",
      "Requirement already satisfied: websocket-client>=1.7 in c:\\users\\serhat\\anaconda3\\lib\\site-packages (from jupyter-server<3,>=2.4.0->jupyterlab) (1.8.0)\n",
      "Requirement already satisfied: babel>=2.10 in c:\\users\\serhat\\anaconda3\\lib\\site-packages (from jupyterlab-server<3,>=2.27.1->jupyterlab) (2.11.0)\n",
      "Requirement already satisfied: json5>=0.9.0 in c:\\users\\serhat\\anaconda3\\lib\\site-packages (from jupyterlab-server<3,>=2.27.1->jupyterlab) (0.9.6)\n",
      "Requirement already satisfied: jsonschema>=4.18.0 in c:\\users\\serhat\\anaconda3\\lib\\site-packages (from jupyterlab-server<3,>=2.27.1->jupyterlab) (4.23.0)\n",
      "Requirement already satisfied: argon2-cffi-bindings in c:\\users\\serhat\\anaconda3\\lib\\site-packages (from argon2-cffi>=21.1->jupyter-server<3,>=2.4.0->jupyterlab) (21.2.0)\n",
      "Requirement already satisfied: pytz>=2015.7 in c:\\users\\serhat\\anaconda3\\lib\\site-packages (from babel>=2.10->jupyterlab-server<3,>=2.27.1->jupyterlab) (2024.1)\n",
      "Requirement already satisfied: decorator in c:\\users\\serhat\\anaconda3\\lib\\site-packages (from ipython>=7.23.1->ipykernel>=6.5.0->jupyterlab) (5.1.1)\n",
      "Requirement already satisfied: jedi>=0.16 in c:\\users\\serhat\\anaconda3\\lib\\site-packages (from ipython>=7.23.1->ipykernel>=6.5.0->jupyterlab) (0.19.1)\n",
      "Requirement already satisfied: prompt-toolkit<3.1.0,>=3.0.41 in c:\\users\\serhat\\anaconda3\\lib\\site-packages (from ipython>=7.23.1->ipykernel>=6.5.0->jupyterlab) (3.0.43)\n",
      "Requirement already satisfied: pygments>=2.4.0 in c:\\users\\serhat\\anaconda3\\lib\\site-packages (from ipython>=7.23.1->ipykernel>=6.5.0->jupyterlab) (2.15.1)\n",
      "Requirement already satisfied: stack-data in c:\\users\\serhat\\anaconda3\\lib\\site-packages (from ipython>=7.23.1->ipykernel>=6.5.0->jupyterlab) (0.2.0)\n",
      "Requirement already satisfied: colorama in c:\\users\\serhat\\anaconda3\\lib\\site-packages (from ipython>=7.23.1->ipykernel>=6.5.0->jupyterlab) (0.4.6)\n",
      "Requirement already satisfied: attrs>=22.2.0 in c:\\users\\serhat\\anaconda3\\lib\\site-packages (from jsonschema>=4.18.0->jupyterlab-server<3,>=2.27.1->jupyterlab) (23.1.0)\n",
      "Requirement already satisfied: jsonschema-specifications>=2023.03.6 in c:\\users\\serhat\\anaconda3\\lib\\site-packages (from jsonschema>=4.18.0->jupyterlab-server<3,>=2.27.1->jupyterlab) (2023.7.1)\n",
      "Requirement already satisfied: referencing>=0.28.4 in c:\\users\\serhat\\anaconda3\\lib\\site-packages (from jsonschema>=4.18.0->jupyterlab-server<3,>=2.27.1->jupyterlab) (0.30.2)\n",
      "Requirement already satisfied: rpds-py>=0.7.1 in c:\\users\\serhat\\anaconda3\\lib\\site-packages (from jsonschema>=4.18.0->jupyterlab-server<3,>=2.27.1->jupyterlab) (0.10.6)\n",
      "Requirement already satisfied: python-dateutil>=2.8.2 in c:\\users\\serhat\\anaconda3\\lib\\site-packages (from jupyter-client>=6.1.12->ipykernel>=6.5.0->jupyterlab) (2.9.0.post0)\n",
      "Requirement already satisfied: python-json-logger>=2.0.4 in c:\\users\\serhat\\anaconda3\\lib\\site-packages (from jupyter-events>=0.9.0->jupyter-server<3,>=2.4.0->jupyterlab) (2.0.7)\n",
      "Requirement already satisfied: pyyaml>=5.3 in c:\\users\\serhat\\anaconda3\\lib\\site-packages (from jupyter-events>=0.9.0->jupyter-server<3,>=2.4.0->jupyterlab) (6.0.1)\n",
      "Requirement already satisfied: rfc3339-validator in c:\\users\\serhat\\anaconda3\\lib\\site-packages (from jupyter-events>=0.9.0->jupyter-server<3,>=2.4.0->jupyterlab) (0.1.4)\n",
      "Requirement already satisfied: rfc3986-validator>=0.1.1 in c:\\users\\serhat\\anaconda3\\lib\\site-packages (from jupyter-events>=0.9.0->jupyter-server<3,>=2.4.0->jupyterlab) (0.1.1)\n",
      "Requirement already satisfied: beautifulsoup4 in c:\\users\\serhat\\anaconda3\\lib\\site-packages (from nbconvert>=6.4.4->jupyter-server<3,>=2.4.0->jupyterlab) (4.12.3)\n",
      "Requirement already satisfied: bleach!=5.0.0 in c:\\users\\serhat\\anaconda3\\lib\\site-packages (from nbconvert>=6.4.4->jupyter-server<3,>=2.4.0->jupyterlab) (4.1.0)\n",
      "Requirement already satisfied: defusedxml in c:\\users\\serhat\\anaconda3\\lib\\site-packages (from nbconvert>=6.4.4->jupyter-server<3,>=2.4.0->jupyterlab) (0.7.1)\n",
      "Requirement already satisfied: jupyterlab-pygments in c:\\users\\serhat\\anaconda3\\lib\\site-packages (from nbconvert>=6.4.4->jupyter-server<3,>=2.4.0->jupyterlab) (0.1.2)\n",
      "Requirement already satisfied: mistune<4,>=2.0.3 in c:\\users\\serhat\\anaconda3\\lib\\site-packages (from nbconvert>=6.4.4->jupyter-server<3,>=2.4.0->jupyterlab) (2.0.4)\n",
      "Requirement already satisfied: nbclient>=0.5.0 in c:\\users\\serhat\\anaconda3\\lib\\site-packages (from nbconvert>=6.4.4->jupyter-server<3,>=2.4.0->jupyterlab) (0.8.0)\n",
      "Requirement already satisfied: pandocfilters>=1.4.1 in c:\\users\\serhat\\anaconda3\\lib\\site-packages (from nbconvert>=6.4.4->jupyter-server<3,>=2.4.0->jupyterlab) (1.5.0)\n",
      "Requirement already satisfied: tinycss2 in c:\\users\\serhat\\anaconda3\\lib\\site-packages (from nbconvert>=6.4.4->jupyter-server<3,>=2.4.0->jupyterlab) (1.2.1)\n",
      "Requirement already satisfied: fastjsonschema>=2.15 in c:\\users\\serhat\\anaconda3\\lib\\site-packages (from nbformat>=5.3.0->jupyter-server<3,>=2.4.0->jupyterlab) (2.16.2)\n",
      "Requirement already satisfied: six>=1.9.0 in c:\\users\\serhat\\anaconda3\\lib\\site-packages (from bleach!=5.0.0->nbconvert>=6.4.4->jupyter-server<3,>=2.4.0->jupyterlab) (1.16.0)\n",
      "Requirement already satisfied: webencodings in c:\\users\\serhat\\anaconda3\\lib\\site-packages (from bleach!=5.0.0->nbconvert>=6.4.4->jupyter-server<3,>=2.4.0->jupyterlab) (0.5.1)\n",
      "Requirement already satisfied: parso<0.9.0,>=0.8.3 in c:\\users\\serhat\\anaconda3\\lib\\site-packages (from jedi>=0.16->ipython>=7.23.1->ipykernel>=6.5.0->jupyterlab) (0.8.3)\n",
      "Collecting fqdn (from jsonschema[format-nongpl]>=4.18.0->jupyter-events>=0.9.0->jupyter-server<3,>=2.4.0->jupyterlab)\n",
      "  Downloading fqdn-1.5.1-py3-none-any.whl.metadata (1.4 kB)\n",
      "Collecting isoduration (from jsonschema[format-nongpl]>=4.18.0->jupyter-events>=0.9.0->jupyter-server<3,>=2.4.0->jupyterlab)\n",
      "  Downloading isoduration-20.11.0-py3-none-any.whl.metadata (5.7 kB)\n",
      "Requirement already satisfied: jsonpointer>1.13 in c:\\users\\serhat\\anaconda3\\lib\\site-packages (from jsonschema[format-nongpl]>=4.18.0->jupyter-events>=0.9.0->jupyter-server<3,>=2.4.0->jupyterlab) (2.1)\n",
      "Collecting uri-template (from jsonschema[format-nongpl]>=4.18.0->jupyter-events>=0.9.0->jupyter-server<3,>=2.4.0->jupyterlab)\n",
      "  Downloading uri_template-1.3.0-py3-none-any.whl.metadata (8.8 kB)\n",
      "Collecting webcolors>=24.6.0 (from jsonschema[format-nongpl]>=4.18.0->jupyter-events>=0.9.0->jupyter-server<3,>=2.4.0->jupyterlab)\n",
      "  Downloading webcolors-24.11.1-py3-none-any.whl.metadata (2.2 kB)\n",
      "Requirement already satisfied: wcwidth in c:\\users\\serhat\\anaconda3\\lib\\site-packages (from prompt-toolkit<3.1.0,>=3.0.41->ipython>=7.23.1->ipykernel>=6.5.0->jupyterlab) (0.2.5)\n",
      "Requirement already satisfied: cffi>=1.0.1 in c:\\users\\serhat\\anaconda3\\lib\\site-packages (from argon2-cffi-bindings->argon2-cffi>=21.1->jupyter-server<3,>=2.4.0->jupyterlab) (1.17.1)\n",
      "Requirement already satisfied: soupsieve>1.2 in c:\\users\\serhat\\anaconda3\\lib\\site-packages (from beautifulsoup4->nbconvert>=6.4.4->jupyter-server<3,>=2.4.0->jupyterlab) (2.5)\n",
      "Requirement already satisfied: executing in c:\\users\\serhat\\anaconda3\\lib\\site-packages (from stack-data->ipython>=7.23.1->ipykernel>=6.5.0->jupyterlab) (0.8.3)\n",
      "Requirement already satisfied: asttokens in c:\\users\\serhat\\anaconda3\\lib\\site-packages (from stack-data->ipython>=7.23.1->ipykernel>=6.5.0->jupyterlab) (2.0.5)\n",
      "Requirement already satisfied: pure-eval in c:\\users\\serhat\\anaconda3\\lib\\site-packages (from stack-data->ipython>=7.23.1->ipykernel>=6.5.0->jupyterlab) (0.2.2)\n",
      "Requirement already satisfied: pycparser in c:\\users\\serhat\\anaconda3\\lib\\site-packages (from cffi>=1.0.1->argon2-cffi-bindings->argon2-cffi>=21.1->jupyter-server<3,>=2.4.0->jupyterlab) (2.21)\n",
      "Requirement already satisfied: arrow>=0.15.0 in c:\\users\\serhat\\anaconda3\\lib\\site-packages (from isoduration->jsonschema[format-nongpl]>=4.18.0->jupyter-events>=0.9.0->jupyter-server<3,>=2.4.0->jupyterlab) (1.2.3)\n",
      "Downloading webcolors-24.11.1-py3-none-any.whl (14 kB)\n",
      "Downloading fqdn-1.5.1-py3-none-any.whl (9.1 kB)\n",
      "Downloading isoduration-20.11.0-py3-none-any.whl (11 kB)\n",
      "Downloading uri_template-1.3.0-py3-none-any.whl (11 kB)\n",
      "Installing collected packages: webcolors, uri-template, fqdn, isoduration\n",
      "Successfully installed fqdn-1.5.1 isoduration-20.11.0 uri-template-1.3.0 webcolors-24.11.1\n"
     ]
    },
    {
     "name": "stderr",
     "output_type": "stream",
     "text": [
      "WARNING: Retrying (Retry(total=4, connect=None, read=None, redirect=None, status=None)) after connection broken by 'NewConnectionError('<pip._vendor.urllib3.connection.HTTPSConnection object at 0x000001DF1EEE46B0>: Failed to establish a new connection: [Errno 11001] getaddrinfo failed')': /simple/fqdn/\n",
      "  WARNING: Retrying (Retry(total=4, connect=None, read=None, redirect=None, status=None)) after connection broken by 'NewConnectionError('<pip._vendor.urllib3.connection.HTTPSConnection object at 0x000001DF1EFBA270>: Failed to establish a new connection: [Errno 11001] getaddrinfo failed')': /packages/cf/58/8acf1b3e91c58313ce5cb67df61001fc9dcd21be4fadb76c1a2d540e09ed/fqdn-1.5.1-py3-none-any.whl.metadata\n",
      "  WARNING: Retrying (Retry(total=3, connect=None, read=None, redirect=None, status=None)) after connection broken by 'NewConnectionError('<pip._vendor.urllib3.connection.HTTPSConnection object at 0x000001DF1EFBA7B0>: Failed to establish a new connection: [Errno 11001] getaddrinfo failed')': /packages/cf/58/8acf1b3e91c58313ce5cb67df61001fc9dcd21be4fadb76c1a2d540e09ed/fqdn-1.5.1-py3-none-any.whl.metadata\n",
      "  WARNING: Retrying (Retry(total=2, connect=None, read=None, redirect=None, status=None)) after connection broken by 'NewConnectionError('<pip._vendor.urllib3.connection.HTTPSConnection object at 0x000001DF1EFBA7E0>: Failed to establish a new connection: [Errno 11001] getaddrinfo failed')': /packages/cf/58/8acf1b3e91c58313ce5cb67df61001fc9dcd21be4fadb76c1a2d540e09ed/fqdn-1.5.1-py3-none-any.whl.metadata\n",
      "  WARNING: Retrying (Retry(total=1, connect=None, read=None, redirect=None, status=None)) after connection broken by 'NewConnectionError('<pip._vendor.urllib3.connection.HTTPSConnection object at 0x000001DF1EFBA9C0>: Failed to establish a new connection: [Errno 11001] getaddrinfo failed')': /packages/cf/58/8acf1b3e91c58313ce5cb67df61001fc9dcd21be4fadb76c1a2d540e09ed/fqdn-1.5.1-py3-none-any.whl.metadata\n",
      "  WARNING: Retrying (Retry(total=0, connect=None, read=None, redirect=None, status=None)) after connection broken by 'NewConnectionError('<pip._vendor.urllib3.connection.HTTPSConnection object at 0x000001DF1EFBABD0>: Failed to establish a new connection: [Errno 11001] getaddrinfo failed')': /packages/cf/58/8acf1b3e91c58313ce5cb67df61001fc9dcd21be4fadb76c1a2d540e09ed/fqdn-1.5.1-py3-none-any.whl.metadata\n"
     ]
    }
   ],
   "source": [
    "!pip install torch torchvision torchaudio --index-url https://download.pytorch.org/whl/cu118\n",
    "!pip install jupyterlab pillow requests\n"
   ]
  },
  {
   "cell_type": "code",
   "execution_count": null,
   "id": "61fb2d46-0a23-4448-a9d6-fd23eb6a41df",
   "metadata": {},
   "outputs": [],
   "source": [
    "!pip install torch transformers datasets torchvision"
   ]
  },
  {
   "cell_type": "code",
   "execution_count": 106,
   "id": "4aac326b-0524-471e-91fb-54a2d95911c1",
   "metadata": {},
   "outputs": [],
   "source": [
    "import torch\n",
    "from transformers import AutoTokenizer, AutoModelForSequenceClassification\n",
    "\n",
    "model =\"distilbert-base-uncased-finetuned-sst-2-english\"\n",
    "tokenizer = AutoTokenizer.from_pretrained(model)\n",
    "model = AutoModelForSequenceClassification.from_pretrained(model).to(\"cuda\" if torch.cuda.is_available() else \"cpu\")"
   ]
  },
  {
   "cell_type": "code",
   "execution_count": 108,
   "id": "9daa5147-8223-4408-a527-00b51b75fb57",
   "metadata": {},
   "outputs": [],
   "source": [
    "text= \"I feel not good\"\n",
    "inputs = tokenizer(text,return_tensors=\"pt\").to(model.device) #text to numeric value"
   ]
  },
  {
   "cell_type": "code",
   "execution_count": 110,
   "id": "407264a3-be89-438c-9a03-b0788e0dc572",
   "metadata": {},
   "outputs": [],
   "source": [
    "with torch.no_grad(): #The model operates in inference mode and does not perform training or gradient computation\n",
    "    outputs = model(**inputs) \n",
    "    logits = outputs.logits\n",
    "    prediction = torch.argmax(logits, dim=1).item()\n",
    "\n"
   ]
  },
  {
   "cell_type": "code",
   "execution_count": 112,
   "id": "a74931ca-00a8-4d7e-903f-61d9fd3e326c",
   "metadata": {},
   "outputs": [
    {
     "name": "stdout",
     "output_type": "stream",
     "text": [
      "Tahmin: Negative\n"
     ]
    }
   ],
   "source": [
    "etiketler = [\"Negative\", \"Positive\"]\n",
    "print(\"Tahmin:\", etiketler[prediction])"
   ]
  },
  {
   "cell_type": "code",
   "execution_count": 126,
   "id": "93c79006-4843-451b-849f-7f468620ef8b",
   "metadata": {},
   "outputs": [
    {
     "name": "stdout",
     "output_type": "stream",
     "text": [
      "0.016952991485595703\n"
     ]
    }
   ],
   "source": [
    "import time \n",
    "start = time.time()\n",
    "with torch.no_grad():\n",
    "    output = model(**inputs)\n",
    "end = time.time()\n",
    "\n",
    "print(end-start)"
   ]
  },
  {
   "cell_type": "code",
   "execution_count": 128,
   "id": "6d9984c5-e14d-4626-90b5-b05ef00b59d5",
   "metadata": {},
   "outputs": [
    {
     "name": "stdout",
     "output_type": "stream",
     "text": [
      "267.860606 MB\n"
     ]
    }
   ],
   "source": [
    "#original model size\n",
    "import os\n",
    "torch.save(model.state_dict(),\"origin_model.pt\")\n",
    "print(os.path.getsize(\"origin_model.pt\")/1e6,\"MB\")"
   ]
  },
  {
   "cell_type": "code",
   "execution_count": 118,
   "id": "ca78c250-b1d7-4b6b-b15e-2044d9aa68b6",
   "metadata": {},
   "outputs": [],
   "source": [
    "from torch.quantization import quantize_dynamic\n",
    "\n",
    "quantized_model = quantize_dynamic(\n",
    "    model,\n",
    "    {torch.nn.Linear},\n",
    "    dtype = torch.qint8\n",
    ")"
   ]
  },
  {
   "cell_type": "code",
   "execution_count": 120,
   "id": "fcd93e79-30c7-4920-af58-0d41840e8730",
   "metadata": {},
   "outputs": [
    {
     "name": "stdout",
     "output_type": "stream",
     "text": [
      "0.010969400405883789\n"
     ]
    }
   ],
   "source": [
    "import time \n",
    "start = time.time()\n",
    "with torch.no_grad():\n",
    "    output = quantized_model(**inputs)\n",
    "end = time.time()\n",
    "\n",
    "print(end-start)"
   ]
  },
  {
   "cell_type": "code",
   "execution_count": 122,
   "id": "d330dc93-5abe-482b-86cd-25c6fdf6a286",
   "metadata": {},
   "outputs": [
    {
     "name": "stdout",
     "output_type": "stream",
     "text": [
      "138.715658 MB\n"
     ]
    }
   ],
   "source": [
    "#quantized model size\n",
    "import os\n",
    "torch.save(quantized_model.state_dict(),\"quantized_model.pt\")\n",
    "print(os.path.getsize(\"quantized_model.pt\")/1e6,\"MB\")"
   ]
  },
  {
   "cell_type": "code",
   "execution_count": null,
   "id": "2f67d856-1a2d-40d8-80ec-09341a0c903d",
   "metadata": {},
   "outputs": [],
   "source": []
  }
 ],
 "metadata": {
  "kernelspec": {
   "display_name": "Python [conda env:base] *",
   "language": "python",
   "name": "conda-base-py"
  },
  "language_info": {
   "codemirror_mode": {
    "name": "ipython",
    "version": 3
   },
   "file_extension": ".py",
   "mimetype": "text/x-python",
   "name": "python",
   "nbconvert_exporter": "python",
   "pygments_lexer": "ipython3",
   "version": "3.12.7"
  }
 },
 "nbformat": 4,
 "nbformat_minor": 5
}
