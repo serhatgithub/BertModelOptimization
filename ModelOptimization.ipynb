{
 "cells": [
  {
   "cell_type": "code",
   "execution_count": null,
   "id": "61fb2d46-0a23-4448-a9d6-fd23eb6a41df",
   "metadata": {},
   "outputs": [],
   "source": [
    "!pip install torch transformers datasets torchvision"
   ]
  },
  {
   "cell_type": "code",
   "execution_count": 106,
   "id": "4aac326b-0524-471e-91fb-54a2d95911c1",
   "metadata": {},
   "outputs": [],
   "source": [
    "import torch\n",
    "from transformers import AutoTokenizer, AutoModelForSequenceClassification\n",
    "\n",
    "model =\"distilbert-base-uncased-finetuned-sst-2-english\"\n",
    "tokenizer = AutoTokenizer.from_pretrained(model)\n",
    "model = AutoModelForSequenceClassification.from_pretrained(model).to(\"cuda\" if torch.cuda.is_available() else \"cpu\")"
   ]
  },
  {
   "cell_type": "code",
   "execution_count": 108,
   "id": "9daa5147-8223-4408-a527-00b51b75fb57",
   "metadata": {},
   "outputs": [],
   "source": [
    "text= \"I feel not good\"\n",
    "inputs = tokenizer(text,return_tensors=\"pt\").to(model.device) #text to numeric value"
   ]
  },
  {
   "cell_type": "code",
   "execution_count": 110,
   "id": "407264a3-be89-438c-9a03-b0788e0dc572",
   "metadata": {},
   "outputs": [],
   "source": [
    "with torch.no_grad(): #The model operates in inference mode and does not perform training or gradient computation\n",
    "    outputs = model(**inputs) \n",
    "    logits = outputs.logits\n",
    "    prediction = torch.argmax(logits, dim=1).item()\n",
    "\n"
   ]
  },
  {
   "cell_type": "code",
   "execution_count": 112,
   "id": "a74931ca-00a8-4d7e-903f-61d9fd3e326c",
   "metadata": {},
   "outputs": [
    {
     "name": "stdout",
     "output_type": "stream",
     "text": [
      "Tahmin: Negative\n"
     ]
    }
   ],
   "source": [
    "etiketler = [\"Negative\", \"Positive\"]\n",
    "print(\"Tahmin:\", etiketler[prediction])"
   ]
  },
  {
   "cell_type": "code",
   "execution_count": 126,
   "id": "93c79006-4843-451b-849f-7f468620ef8b",
   "metadata": {},
   "outputs": [
    {
     "name": "stdout",
     "output_type": "stream",
     "text": [
      "0.016952991485595703\n"
     ]
    }
   ],
   "source": [
    "import time \n",
    "start = time.time()\n",
    "with torch.no_grad():\n",
    "    output = model(**inputs)\n",
    "end = time.time()\n",
    "\n",
    "print(end-start)"
   ]
  },
  {
   "cell_type": "code",
   "execution_count": 128,
   "id": "6d9984c5-e14d-4626-90b5-b05ef00b59d5",
   "metadata": {},
   "outputs": [
    {
     "name": "stdout",
     "output_type": "stream",
     "text": [
      "267.860606 MB\n"
     ]
    }
   ],
   "source": [
    "#original model size\n",
    "import os\n",
    "torch.save(model.state_dict(),\"origin_model.pt\")\n",
    "print(os.path.getsize(\"origin_model.pt\")/1e6,\"MB\")"
   ]
  },
  {
   "cell_type": "code",
   "execution_count": 118,
   "id": "ca78c250-b1d7-4b6b-b15e-2044d9aa68b6",
   "metadata": {},
   "outputs": [],
   "source": [
    "from torch.quantization import quantize_dynamic\n",
    "\n",
    "quantized_model = quantize_dynamic(\n",
    "    model,\n",
    "    {torch.nn.Linear},\n",
    "    dtype = torch.qint8\n",
    ")"
   ]
  },
  {
   "cell_type": "code",
   "execution_count": 120,
   "id": "fcd93e79-30c7-4920-af58-0d41840e8730",
   "metadata": {},
   "outputs": [
    {
     "name": "stdout",
     "output_type": "stream",
     "text": [
      "0.010969400405883789\n"
     ]
    }
   ],
   "source": [
    "import time \n",
    "start = time.time()\n",
    "with torch.no_grad():\n",
    "    output = quantized_model(**inputs)\n",
    "end = time.time()\n",
    "\n",
    "print(end-start)"
   ]
  },
  {
   "cell_type": "code",
   "execution_count": 122,
   "id": "d330dc93-5abe-482b-86cd-25c6fdf6a286",
   "metadata": {},
   "outputs": [
    {
     "name": "stdout",
     "output_type": "stream",
     "text": [
      "138.715658 MB\n"
     ]
    }
   ],
   "source": [
    "#quantized model size\n",
    "import os\n",
    "torch.save(quantized_model.state_dict(),\"quantized_model.pt\")\n",
    "print(os.path.getsize(\"quantized_model.pt\")/1e6,\"MB\")"
   ]
  },
  {
   "cell_type": "code",
   "execution_count": null,
   "id": "2f67d856-1a2d-40d8-80ec-09341a0c903d",
   "metadata": {},
   "outputs": [],
   "source": []
  }
 ],
 "metadata": {
  "kernelspec": {
   "display_name": "Python [conda env:base] *",
   "language": "python",
   "name": "conda-base-py"
  },
  "language_info": {
   "codemirror_mode": {
    "name": "ipython",
    "version": 3
   },
   "file_extension": ".py",
   "mimetype": "text/x-python",
   "name": "python",
   "nbconvert_exporter": "python",
   "pygments_lexer": "ipython3",
   "version": "3.12.7"
  }
 },
 "nbformat": 4,
 "nbformat_minor": 5
}
